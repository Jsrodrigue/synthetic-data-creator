{
 "cells": [
  {
   "cell_type": "markdown",
   "id": "63356928",
   "metadata": {},
   "source": [
    "# Initial Note\n",
    "After running experiments in Colab using open-source models from Hugging Face, I decided to do the exercise with OpenAI. The reason is that Llama 3.2 frequently did not follow the prompts correctly, leading to inconsistencies and poor performance. Additionally, using larger models significantly increased processing time, making them less practical for this task.\n",
    "\n",
    "The code from this notebook will be reorganized in modules for the final Demo."
   ]
  },
  {
   "cell_type": "markdown",
   "id": "5c12f081",
   "metadata": {},
   "source": [
    "# Module to generate syntethic data"
   ]
  },
  {
   "cell_type": "code",
   "execution_count": null,
   "id": "2389d798",
   "metadata": {},
   "outputs": [],
   "source": [
    "\n",
    "import re \n",
    "\n",
    "def _clean_json_output(raw_text: str) -> str:\n",
    "    \"\"\"\n",
    "    Limpia la salida de OpenAI para convertirla en JSON válido:\n",
    "    - Mantiene las comillas de claves sin tocar.\n",
    "    - Escapa solo las comillas dobles dentro de los strings de valores.\n",
    "    - Escapa \\n, \\r, \\t.\n",
    "    - Remueve code fences y HTML.\n",
    "    - Asegura que el array comience con [ y termine con ].\n",
    "    - Elimina comas finales.\n",
    "    \"\"\"\n",
    "    text = raw_text.strip()\n",
    "    \n",
    "    # Remover code fences y HTML\n",
    "    text = re.sub(r\"```(?:json)?\", \"\", text)\n",
    "    text = re.sub(r\"</?[^>]+>\", \"\", text)\n",
    "    \n",
    "    # Escapar comillas dobles dentro de valores de Comment\n",
    "    def escape_quotes_in_values(match):\n",
    "        value = match.group(1)\n",
    "        value = value.replace('\"', r'\\\"')  # solo dentro del valor\n",
    "        value = value.replace('\\n', r'\\n').replace('\\r', r'\\r').replace('\\t', r'\\t')\n",
    "        return f'\"{value}\"'\n",
    "    \n",
    "    text = re.sub(r'\"(.*?)\"', escape_quotes_in_values, text)\n",
    "    \n",
    "    # Asegurar que empieza y termina con []\n",
    "    if not text.startswith('['):\n",
    "        text = '[' + text\n",
    "    if not text.endswith(']'):\n",
    "        text += ']'\n",
    "    \n",
    "    # Eliminar comas finales antes de cerrar corchetes\n",
    "    text = re.sub(r',\\s*]', ']', text)\n",
    "    \n",
    "    return text\n"
   ]
  },
  {
   "cell_type": "code",
   "execution_count": 14,
   "id": "75bfad6f",
   "metadata": {},
   "outputs": [],
   "source": [
    "import pandas as pd\n",
    "import json\n",
    "import openai\n",
    "import tempfile\n",
    "\n",
    "\n",
    "def generate_synthetic_data_openai(\n",
    "    system_prompt: str,\n",
    "    user_prompt: str,\n",
    "    reference_file=None,\n",
    "    openai_model=\"gpt-4o-mini\",\n",
    "    max_tokens=2048,\n",
    "    temperature=0.0\n",
    "):\n",
    "    \"\"\"\n",
    "    Genera datos sintéticos y devuelve el DataFrame y la ruta de un CSV temporal.\n",
    "    \"\"\"\n",
    "    # Preparar prompt completo\n",
    "    if reference_file:\n",
    "        if isinstance(reference_file, str):\n",
    "            df_ref = pd.read_csv(reference_file)\n",
    "        else:\n",
    "            df_ref = pd.read_csv(reference_file)\n",
    "        reference_data = df_ref.to_dict(orient=\"records\")\n",
    "        user_prompt_full = (\n",
    "            f\"{user_prompt}\\nFollow the structure and distribution of the reference data, \"\n",
    "            f\"but do NOT copy any exact values:\\n{reference_data}\"\n",
    "        )\n",
    "    else:\n",
    "        user_prompt_full = user_prompt\n",
    "\n",
    "    # Llamar a OpenAI\n",
    "    response = openai.chat.completions.create(\n",
    "        model=openai_model,\n",
    "        messages=[\n",
    "            {\"role\": \"system\", \"content\": system_prompt},\n",
    "            {\"role\": \"user\", \"content\": user_prompt_full},\n",
    "        ],\n",
    "        temperature=temperature,\n",
    "        max_tokens=max_tokens,\n",
    "    )\n",
    "\n",
    "    raw_text = response.choices[0].message.content\n",
    "    cleaned_json = _clean_json_output(raw_text)\n",
    "\n",
    "    # Parsear JSON\n",
    "    try:\n",
    "        data = json.loads(cleaned_json)\n",
    "    except json.JSONDecodeError as e:\n",
    "        raise ValueError(f\"JSON inválido generado. Error: {e}\\nOutput truncado: {cleaned_json[:500]}\")\n",
    "\n",
    "    df = pd.DataFrame(data)\n",
    "\n",
    "    # Guardar CSV temporal\n",
    "    tmp_file = tempfile.NamedTemporaryFile(delete=False, suffix=\".csv\")\n",
    "    df.to_csv(tmp_file.name, index=False)\n",
    "    tmp_file.close()\n",
    "\n",
    "    return df, tmp_file.name\n"
   ]
  },
  {
   "cell_type": "markdown",
   "id": "91af1eb5",
   "metadata": {},
   "source": [
    "# Default prompts"
   ]
  },
  {
   "cell_type": "code",
   "execution_count": 19,
   "id": "792d1555",
   "metadata": {},
   "outputs": [],
   "source": [
    "SYSTEM_PROMPT = \"\"\"\n",
    "You are a precise synthetic data generator. Your only task is to output valid JSON arrays of dictionaries.\n",
    "\n",
    "Rules:\n",
    "1. Output a single JSON array starting with '[' and ending with ']'.\n",
    "2. Do not include markdown, code fences, or explanatory text — only the JSON.\n",
    "3. Keep all columns exactly as specified; do not add or remove fields (index must be omitted).\n",
    "4. Respect data types: text, number, date, boolean, etc.\n",
    "5. Ensure internal consistency and realistic variation.\n",
    "6. If a reference table is provided, generate data with similar statistical distributions for numerical and categorical variables, \n",
    "   but never copy exact rows. Each row must be independent and new.\n",
    "7. For personal information (names, ages, addresses, IDs), ensure diversity and realism — individual values may be reused to maintain realism, \n",
    "   but never reuse or slightly modify entire reference rows.\n",
    "8. Escape all internal double quotes in strings with a backslash (\\\").\n",
    "9. Replace any single quotes in strings with double quotes.\n",
    "10. Escape newline (\\n), tab (\\t), or carriage return (\\r) characters as \\\\n, \\\\t, \\\\r inside strings.\n",
    "11. Remove any trailing commas before closing brackets.\n",
    "12. Do not include any reference data or notes about it in the output.\n",
    "13. The output must always be valid JSON parseable by standard JSON parsers.\n",
    "\"\"\"\n",
    "\n",
    "USER_PROMPT = \"\"\"\n",
    "Generate exactly 15 rows of synthetic data following all the rules above. \n",
    "Ensure that all strings are safe for JSON parsing and ready to convert to a pandas DataFrame.\n",
    "\"\"\"\n"
   ]
  },
  {
   "cell_type": "markdown",
   "id": "6f9331fa",
   "metadata": {},
   "source": [
    "# Test"
   ]
  },
  {
   "cell_type": "markdown",
   "id": "d38f0afb",
   "metadata": {},
   "source": [
    "For testing our generator, we use the first 50 examples of reddit gaming comments with sentiments dataset.\n",
    "Source: https://www.kaggle.com/datasets/sainitishmitta04/23k-reddit-gaming-comments-with-sentiments-dataset"
   ]
  },
  {
   "cell_type": "code",
   "execution_count": 16,
   "id": "78d94faa",
   "metadata": {},
   "outputs": [],
   "source": [
    "\n",
    "df, _ = generate_synthetic_data_openai(SYSTEM_PROMPT, USER_PROMPT, reference_file= \"data/sentiment_reference.csv\")"
   ]
  },
  {
   "cell_type": "code",
   "execution_count": 18,
   "id": "0e6b5ebb",
   "metadata": {},
   "outputs": [
    {
     "data": {
      "text/html": [
       "<div>\n",
       "<style scoped>\n",
       "    .dataframe tbody tr th:only-of-type {\n",
       "        vertical-align: middle;\n",
       "    }\n",
       "\n",
       "    .dataframe tbody tr th {\n",
       "        vertical-align: top;\n",
       "    }\n",
       "\n",
       "    .dataframe thead th {\n",
       "        text-align: right;\n",
       "    }\n",
       "</style>\n",
       "<table border=\"1\" class=\"dataframe\">\n",
       "  <thead>\n",
       "    <tr style=\"text-align: right;\">\n",
       "      <th></th>\n",
       "      <th>Comment</th>\n",
       "      <th>sentiment</th>\n",
       "    </tr>\n",
       "  </thead>\n",
       "  <tbody>\n",
       "    <tr>\n",
       "      <th>0</th>\n",
       "      <td>Them: \"I can't believe you made it this far!\"\\...</td>\n",
       "      <td>positive</td>\n",
       "    </tr>\n",
       "    <tr>\n",
       "      <th>1</th>\n",
       "      <td>Then you realize they have a better strategy t...</td>\n",
       "      <td>negative</td>\n",
       "    </tr>\n",
       "    <tr>\n",
       "      <th>2</th>\n",
       "      <td>There's nothing quite like the joy of sharing ...</td>\n",
       "      <td>positive</td>\n",
       "    </tr>\n",
       "    <tr>\n",
       "      <th>3</th>\n",
       "      <td>[This is a screenshot of my character](https:/...</td>\n",
       "      <td>negative</td>\n",
       "    </tr>\n",
       "    <tr>\n",
       "      <th>4</th>\n",
       "      <td>Haha, I remember when my friend tried to intro...</td>\n",
       "      <td>positive</td>\n",
       "    </tr>\n",
       "    <tr>\n",
       "      <th>5</th>\n",
       "      <td>I'm currently experiencing this with my partne...</td>\n",
       "      <td>positive</td>\n",
       "    </tr>\n",
       "    <tr>\n",
       "      <th>6</th>\n",
       "      <td>Then they start to outshine you and you feel l...</td>\n",
       "      <td>positive</td>\n",
       "    </tr>\n",
       "    <tr>\n",
       "      <th>7</th>\n",
       "      <td>###Take your time, it's all about the journey\\...</td>\n",
       "      <td>positive</td>\n",
       "    </tr>\n",
       "    <tr>\n",
       "      <th>8</th>\n",
       "      <td>Them: \"Wait, how did you do that?\"\\n\\nMe: \"Jus...</td>\n",
       "      <td>neutral</td>\n",
       "    </tr>\n",
       "    <tr>\n",
       "      <th>9</th>\n",
       "      <td>Don't worry about the mistakes, it's all part ...</td>\n",
       "      <td>positive</td>\n",
       "    </tr>\n",
       "    <tr>\n",
       "      <th>10</th>\n",
       "      <td>[my_experience](https://i.imgur.com/example10....</td>\n",
       "      <td>neutral</td>\n",
       "    </tr>\n",
       "    <tr>\n",
       "      <th>11</th>\n",
       "      <td>I usually show them the ropes, then let them f...</td>\n",
       "      <td>positive</td>\n",
       "    </tr>\n",
       "    <tr>\n",
       "      <th>12</th>\n",
       "      <td>This game is a perfect example of teamwork in ...</td>\n",
       "      <td>neutral</td>\n",
       "    </tr>\n",
       "    <tr>\n",
       "      <th>13</th>\n",
       "      <td>[I love sharing my gaming experiences with oth...</td>\n",
       "      <td>positive</td>\n",
       "    </tr>\n",
       "    <tr>\n",
       "      <th>14</th>\n",
       "      <td>[When the game gets too complicated for them](...</td>\n",
       "      <td>negative</td>\n",
       "    </tr>\n",
       "    <tr>\n",
       "      <th>15</th>\n",
       "      <td>I appreciate the little things in gaming, like...</td>\n",
       "      <td>positive</td>\n",
       "    </tr>\n",
       "    <tr>\n",
       "      <th>16</th>\n",
       "      <td>https://i.redd.it/example13.jpg\\n\\nIt's all ab...</td>\n",
       "      <td>neutral</td>\n",
       "    </tr>\n",
       "    <tr>\n",
       "      <th>17</th>\n",
       "      <td>[This is my last update before I take a break]...</td>\n",
       "      <td>neutral</td>\n",
       "    </tr>\n",
       "    <tr>\n",
       "      <th>18</th>\n",
       "      <td>Haha, this is me trying to help my friend, but...</td>\n",
       "      <td>positive</td>\n",
       "    </tr>\n",
       "    <tr>\n",
       "      <th>19</th>\n",
       "      <td>I hope to pass on my gaming knowledge to the n...</td>\n",
       "      <td>positive</td>\n",
       "    </tr>\n",
       "    <tr>\n",
       "      <th>20</th>\n",
       "      <td>WAIT, why did you press that button? Now we ha...</td>\n",
       "      <td>neutral</td>\n",
       "    </tr>\n",
       "    <tr>\n",
       "      <th>21</th>\n",
       "      <td>Gaming is all about having fun, no matter the ...</td>\n",
       "      <td>positive</td>\n",
       "    </tr>\n",
       "  </tbody>\n",
       "</table>\n",
       "</div>"
      ],
      "text/plain": [
       "                                              Comment sentiment\n",
       "0   Them: \"I can't believe you made it this far!\"\\...  positive\n",
       "1   Then you realize they have a better strategy t...  negative\n",
       "2   There's nothing quite like the joy of sharing ...  positive\n",
       "3   [This is a screenshot of my character](https:/...  negative\n",
       "4   Haha, I remember when my friend tried to intro...  positive\n",
       "5   I'm currently experiencing this with my partne...  positive\n",
       "6   Then they start to outshine you and you feel l...  positive\n",
       "7   ###Take your time, it's all about the journey\\...  positive\n",
       "8   Them: \"Wait, how did you do that?\"\\n\\nMe: \"Jus...   neutral\n",
       "9   Don't worry about the mistakes, it's all part ...  positive\n",
       "10  [my_experience](https://i.imgur.com/example10....   neutral\n",
       "11  I usually show them the ropes, then let them f...  positive\n",
       "12  This game is a perfect example of teamwork in ...   neutral\n",
       "13  [I love sharing my gaming experiences with oth...  positive\n",
       "14  [When the game gets too complicated for them](...  negative\n",
       "15  I appreciate the little things in gaming, like...  positive\n",
       "16  https://i.redd.it/example13.jpg\\n\\nIt's all ab...   neutral\n",
       "17  [This is my last update before I take a break]...   neutral\n",
       "18  Haha, this is me trying to help my friend, but...  positive\n",
       "19  I hope to pass on my gaming knowledge to the n...  positive\n",
       "20  WAIT, why did you press that button? Now we ha...   neutral\n",
       "21  Gaming is all about having fun, no matter the ...  positive"
      ]
     },
     "execution_count": 18,
     "metadata": {},
     "output_type": "execute_result"
    }
   ],
   "source": [
    "df"
   ]
  },
  {
   "cell_type": "code",
   "execution_count": 17,
   "id": "015a3110",
   "metadata": {},
   "outputs": [
    {
     "name": "stdout",
     "output_type": "stream",
     "text": [
      "Them: \"I can't believe you made it this far!\"\n",
      "\n",
      "Me: \"I just followed the map, it's not that hard!\"\n"
     ]
    }
   ],
   "source": [
    "print(df.Comment[0])"
   ]
  },
  {
   "cell_type": "markdown",
   "id": "0ef44876",
   "metadata": {},
   "source": [
    "# Gradio Demo"
   ]
  },
  {
   "cell_type": "code",
   "execution_count": 5,
   "id": "aa4092f4",
   "metadata": {},
   "outputs": [
    {
     "name": "stdout",
     "output_type": "stream",
     "text": [
      "* Running on local URL:  http://127.0.0.1:7860\n",
      "* To create a public link, set `share=True` in `launch()`.\n"
     ]
    },
    {
     "data": {
      "text/html": [
       "<div><iframe src=\"http://127.0.0.1:7860/\" width=\"100%\" height=\"500\" allow=\"autoplay; camera; microphone; clipboard-read; clipboard-write;\" frameborder=\"0\" allowfullscreen></iframe></div>"
      ],
      "text/plain": [
       "<IPython.core.display.HTML object>"
      ]
     },
     "metadata": {},
     "output_type": "display_data"
    },
    {
     "name": "stdout",
     "output_type": "stream",
     "text": [
      "Keyboard interruption in main thread... closing server.\n"
     ]
    },
    {
     "data": {
      "text/plain": []
     },
     "execution_count": 5,
     "metadata": {},
     "output_type": "execute_result"
    }
   ],
   "source": [
    "import gradio as gr\n",
    "\n",
    "with gr.Blocks() as demo:\n",
    "    gr.Markdown(\"# 🧠 Synthetic Data Generator\")\n",
    "\n",
    "    with gr.Row():\n",
    "        system_prompt_input = gr.Textbox(label=\"System Prompt\", value=SYSTEM_PROMPT, lines=10)\n",
    "\n",
    "    with gr.Row():\n",
    "        user_prompt_input = gr.Textbox(label=\"User Prompt\", value=USER_PROMPT, lines=5)\n",
    "\n",
    "    with gr.Row():\n",
    "        reference_input = gr.File(label=\"Reference CSV (optional)\", file_types=[\".csv\"])\n",
    "\n",
    "    output_df = gr.DataFrame(label=\"Generated Data\")\n",
    "    download_csv = gr.File(label=\"Download CSV\")\n",
    "\n",
    "    generate_btn = gr.Button(\"🚀 Generate Data\")\n",
    "\n",
    "    generate_btn.click(\n",
    "        fn=generate_synthetic_data_openai,\n",
    "        inputs=[system_prompt_input, user_prompt_input, reference_input],\n",
    "        outputs=[output_df, download_csv]\n",
    "    )\n",
    "\n",
    "demo.launch(debug=True)\n"
   ]
  }
 ],
 "metadata": {
  "kernelspec": {
   "display_name": ".venv",
   "language": "python",
   "name": "python3"
  },
  "language_info": {
   "codemirror_mode": {
    "name": "ipython",
    "version": 3
   },
   "file_extension": ".py",
   "mimetype": "text/x-python",
   "name": "python",
   "nbconvert_exporter": "python",
   "pygments_lexer": "ipython3",
   "version": "3.12.12"
  }
 },
 "nbformat": 4,
 "nbformat_minor": 5
}
